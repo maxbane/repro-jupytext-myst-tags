{
 "cells": [
  {
   "cell_type": "code",
   "execution_count": 1,
   "id": "8df89e31",
   "metadata": {
    "tags": [
     "remove-cell"
    ]
   },
   "outputs": [
    {
     "name": "stdout",
     "output_type": "stream",
     "text": [
      "hello world\n"
     ]
    }
   ],
   "source": [
    "# here is a code cell with tag \"remove-cell\"\n",
    "# this tag is lost by jupytext when converting to md:myst.\n",
    "print(\"hello world\")"
   ]
  },
  {
   "attachments": {},
   "cell_type": "markdown",
   "id": "9ee0ce07",
   "metadata": {},
   "source": [
    "Here is a markdown cell."
   ]
  }
 ],
 "metadata": {
  "jupytext": {
   "cell_metadata_filter": "-all",
   "formats": "notebooks///ipynb,docs///md:myst"
  },
  "kernelspec": {
   "display_name": "jupyter-env",
   "language": "python",
   "name": "python3"
  },
  "language_info": {
   "codemirror_mode": {
    "name": "ipython",
    "version": 3
   },
   "file_extension": ".py",
   "mimetype": "text/x-python",
   "name": "python",
   "nbconvert_exporter": "python",
   "pygments_lexer": "ipython3",
   "version": "3.10.6"
  },
  "vscode": {
   "interpreter": {
    "hash": "05e44b09c3f654f1919487f84f1ef57e1860c5e1b61bb48e389ea398370134d8"
   }
  }
 },
 "nbformat": 4,
 "nbformat_minor": 5
}
